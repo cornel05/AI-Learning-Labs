{
 "cells": [
  {
   "cell_type": "markdown",
   "id": "2fac1987",
   "metadata": {},
   "source": [
    "## Genetic Algorithm Implementation"
   ]
  },
  {
   "cell_type": "markdown",
   "id": "6a10fbb9",
   "metadata": {},
   "source": [
    "Solve a 10-bit binary string optimization problem, in which you need to find the binary string with the largest total bit value."
   ]
  },
  {
   "cell_type": "markdown",
   "id": "ac3d7450",
   "metadata": {},
   "source": [
    "## Population"
   ]
  },
  {
   "cell_type": "code",
   "execution_count": 1,
   "id": "5af23611",
   "metadata": {},
   "outputs": [],
   "source": [
    "import numpy as np\n",
    "\n",
    "# Set a seed so that the results are consistent over sessions\n",
    "np.random.seed(3)"
   ]
  },
  {
   "cell_type": "code",
   "execution_count": 2,
   "id": "2f865c0d",
   "metadata": {},
   "outputs": [],
   "source": [
    "def create_binary_population(pop_size, bit_length):\n",
    "    '''\n",
    "    Arguments:\n",
    "    pop_size -- number of individuals inside population\n",
    "    bit_length -- the number of bits of each individual (e.g. [[1010], [1101]])\n",
    "    \n",
    "    Return:\n",
    "    binary_pop -- population array of shape (pop_size, bit_length)\n",
    "    '''\n",
    "    binary_pop = np.random.randint(2, size=(pop_size, bit_length))\n",
    "    return binary_pop"
   ]
  },
  {
   "cell_type": "code",
   "execution_count": 3,
   "id": "26ef1646",
   "metadata": {},
   "outputs": [
    {
     "name": "stdout",
     "output_type": "stream",
     "text": [
      "Population:\n",
      " [[0 0 1 1 0 0 0 1 1 1]\n",
      " [0 1 1 1 0 1 1 0 0 0]\n",
      " [0 1 1 0 0 0 1 0 0 0]\n",
      " [0 1 0 1 1 0 1 0 0 1]\n",
      " [1 0 0 1 0 1 0 1 1 1]\n",
      " [1 0 1 0 0 1 1 1 0 0]\n",
      " [0 1 0 0 0 1 0 0 1 1]\n",
      " [0 0 1 1 1 0 1 1 1 1]\n",
      " [1 1 0 1 0 0 1 1 0 1]\n",
      " [0 0 0 0 0 1 1 0 1 1]\n",
      " [1 0 0 1 1 0 1 0 0 0]\n",
      " [0 0 0 0 0 0 1 0 0 0]\n",
      " [0 1 1 1 1 0 0 1 1 0]\n",
      " [0 1 1 1 1 0 0 1 1 0]\n",
      " [0 0 0 0 0 0 0 1 1 0]\n",
      " [0 0 1 0 1 1 1 0 0 1]\n",
      " [0 1 0 1 1 0 0 1 0 0]\n",
      " [1 1 1 1 1 0 0 0 0 0]\n",
      " [1 1 1 0 0 0 0 0 0 1]\n",
      " [0 1 0 0 0 1 0 1 1 1]]\n"
     ]
    }
   ],
   "source": [
    "pop_size, bit_length = 20, 10\n",
    "binary_population = create_binary_population(pop_size, bit_length)\n",
    "population_size = len(binary_population)\n",
    "print(\"Population:\\n\", binary_population)"
   ]
  },
  {
   "cell_type": "markdown",
   "id": "c7d8e8ad",
   "metadata": {},
   "source": [
    "## Fitness"
   ]
  },
  {
   "cell_type": "code",
   "execution_count": 4,
   "id": "074744c0",
   "metadata": {},
   "outputs": [],
   "source": [
    "def fitness_binary_individual(individual):\n",
    "    '''\n",
    "    Return:\n",
    "    fitness -- fitness values, based on number of 1s bits (e.g. [1001] -> 2)\n",
    "    '''\n",
    "    return np.sum(individual)"
   ]
  },
  {
   "cell_type": "code",
   "execution_count": 5,
   "id": "34dec8ba",
   "metadata": {},
   "outputs": [],
   "source": [
    "fitness = np.apply_along_axis(fitness_binary_individual, 1, binary_population)"
   ]
  },
  {
   "cell_type": "code",
   "execution_count": 6,
   "id": "e51f4079",
   "metadata": {},
   "outputs": [
    {
     "data": {
      "text/plain": [
       "(20,)"
      ]
     },
     "execution_count": 6,
     "metadata": {},
     "output_type": "execute_result"
    }
   ],
   "source": [
    "fitness.shape"
   ]
  },
  {
   "cell_type": "code",
   "execution_count": 7,
   "id": "a347b902",
   "metadata": {},
   "outputs": [
    {
     "name": "stdout",
     "output_type": "stream",
     "text": [
      "Population:\n",
      "[[0 0 1 1 0 0 0 1 1 1]\n",
      " [0 1 1 1 0 1 1 0 0 0]\n",
      " [0 1 1 0 0 0 1 0 0 0]\n",
      " [0 1 0 1 1 0 1 0 0 1]\n",
      " [1 0 0 1 0 1 0 1 1 1]\n",
      " [1 0 1 0 0 1 1 1 0 0]\n",
      " [0 1 0 0 0 1 0 0 1 1]\n",
      " [0 0 1 1 1 0 1 1 1 1]\n",
      " [1 1 0 1 0 0 1 1 0 1]\n",
      " [0 0 0 0 0 1 1 0 1 1]\n",
      " [1 0 0 1 1 0 1 0 0 0]\n",
      " [0 0 0 0 0 0 1 0 0 0]\n",
      " [0 1 1 1 1 0 0 1 1 0]\n",
      " [0 1 1 1 1 0 0 1 1 0]\n",
      " [0 0 0 0 0 0 0 1 1 0]\n",
      " [0 0 1 0 1 1 1 0 0 1]\n",
      " [0 1 0 1 1 0 0 1 0 0]\n",
      " [1 1 1 1 1 0 0 0 0 0]\n",
      " [1 1 1 0 0 0 0 0 0 1]\n",
      " [0 1 0 0 0 1 0 1 1 1]]\n",
      "Fitness:\n",
      "[5 5 3 5 6 5 4 7 6 4 4 1 6 6 2 5 4 5 4 5]\n"
     ]
    }
   ],
   "source": [
    "print(f'Population:\\n{binary_population}\\nFitness:\\n{fitness}')"
   ]
  },
  {
   "cell_type": "markdown",
   "id": "e0574f01",
   "metadata": {},
   "source": [
    "## Selection"
   ]
  },
  {
   "cell_type": "markdown",
   "id": "44f74ffb",
   "metadata": {},
   "source": [
    "Use `Roulette Wheel Selection` to select parents based on their fitness. The probability of selecting an individual is proportional to its fitness."
   ]
  },
  {
   "cell_type": "code",
   "execution_count": 8,
   "id": "69c40fba",
   "metadata": {},
   "outputs": [],
   "source": [
    "def rouletter_wheel_selection(population, fitness):\n",
    "    '''\n",
    "    Return:\n",
    "    selected_population -- selected individuals based on fitness\n",
    "    '''\n",
    "    # fitness = fitness.ravel()\n",
    "    fitness_sum = np.sum(fitness)\n",
    "    if fitness_sum == 0:\n",
    "        raise ValueError(\"Total fitness is zero, cannot perform selection.\")\n",
    "    probabilities = fitness / fitness_sum\n",
    "    selected_indices = np.random.choice(len(population), size=len(population), p=probabilities)\n",
    "    selected_population = population[selected_indices]\n",
    "    return selected_population"
   ]
  },
  {
   "cell_type": "code",
   "execution_count": 9,
   "id": "80180de7",
   "metadata": {},
   "outputs": [],
   "source": [
    "selected_population = rouletter_wheel_selection(binary_population, fitness)"
   ]
  },
  {
   "cell_type": "code",
   "execution_count": 10,
   "id": "f0062a4d",
   "metadata": {},
   "outputs": [
    {
     "name": "stdout",
     "output_type": "stream",
     "text": [
      "Population:\n",
      "[[0 0 1 1 0 0 0 1 1 1]\n",
      " [0 1 1 1 0 1 1 0 0 0]\n",
      " [0 1 1 0 0 0 1 0 0 0]\n",
      " [0 1 0 1 1 0 1 0 0 1]\n",
      " [1 0 0 1 0 1 0 1 1 1]\n",
      " [1 0 1 0 0 1 1 1 0 0]\n",
      " [0 1 0 0 0 1 0 0 1 1]\n",
      " [0 0 1 1 1 0 1 1 1 1]\n",
      " [1 1 0 1 0 0 1 1 0 1]\n",
      " [0 0 0 0 0 1 1 0 1 1]\n",
      " [1 0 0 1 1 0 1 0 0 0]\n",
      " [0 0 0 0 0 0 1 0 0 0]\n",
      " [0 1 1 1 1 0 0 1 1 0]\n",
      " [0 1 1 1 1 0 0 1 1 0]\n",
      " [0 0 0 0 0 0 0 1 1 0]\n",
      " [0 0 1 0 1 1 1 0 0 1]\n",
      " [0 1 0 1 1 0 0 1 0 0]\n",
      " [1 1 1 1 1 0 0 0 0 0]\n",
      " [1 1 1 0 0 0 0 0 0 1]\n",
      " [0 1 0 0 0 1 0 1 1 1]]\n",
      "Fitness:\n",
      "[5 5 3 5 6 5 4 7 6 4 4 1 6 6 2 5 4 5 4 5]\n",
      "Selected Population:\n",
      "[[0 1 0 1 1 0 1 0 0 1]\n",
      " [0 1 1 1 1 0 0 1 1 0]\n",
      " [0 0 1 0 1 1 1 0 0 1]\n",
      " [0 1 0 0 0 1 0 1 1 1]\n",
      " [1 1 1 1 1 0 0 0 0 0]\n",
      " [1 0 0 1 1 0 1 0 0 0]\n",
      " [0 1 1 1 0 1 1 0 0 0]\n",
      " [1 1 0 1 0 0 1 1 0 1]\n",
      " [1 1 1 0 0 0 0 0 0 1]\n",
      " [0 0 1 0 1 1 1 0 0 1]\n",
      " [1 1 0 1 0 0 1 1 0 1]\n",
      " [1 1 0 1 0 0 1 1 0 1]\n",
      " [1 0 0 1 0 1 0 1 1 1]\n",
      " [0 1 0 1 1 0 1 0 0 1]\n",
      " [0 1 1 1 0 1 1 0 0 0]\n",
      " [1 1 1 1 1 0 0 0 0 0]\n",
      " [0 1 1 1 1 0 0 1 1 0]\n",
      " [0 1 0 1 1 0 1 0 0 1]\n",
      " [0 0 1 1 1 0 1 1 1 1]\n",
      " [0 0 1 1 0 0 0 1 1 1]]\n"
     ]
    }
   ],
   "source": [
    "print(f'Population:\\n{binary_population}\\nFitness:\\n{fitness}\\nSelected Population:\\n{selected_population}')"
   ]
  },
  {
   "cell_type": "markdown",
   "id": "5fab92bf",
   "metadata": {},
   "source": [
    "## Crossover"
   ]
  },
  {
   "cell_type": "code",
   "execution_count": 11,
   "id": "27d90f1f",
   "metadata": {},
   "outputs": [],
   "source": [
    "def one_point_crossover(parent1, parent2):\n",
    "    '''\n",
    "    Perform one-point crossover between two parents.\n",
    "    \n",
    "    Arguments:\n",
    "    parent1 -- first parent binary array\n",
    "    parent2 -- second parent binary array\n",
    "    \n",
    "    Return:\n",
    "    child1 -- first child binary array\n",
    "    child2 -- second child binary array\n",
    "    '''\n",
    "    point = np.random.randint(1, len(parent1)) # random integer from low(inclusive) to high(exclusive)\n",
    "    child1 = np.concatenate((parent1[:point], parent2[point:]))\n",
    "    child2 = np.concatenate((parent2[:point], parent1[point:]))\n",
    "    return child1, child2"
   ]
  },
  {
   "cell_type": "code",
   "execution_count": 12,
   "id": "370eefd5",
   "metadata": {},
   "outputs": [],
   "source": [
    "parent_idx = np.array(np.random.choice(population_size, 2, replace=False))\n",
    "parent1, parent2 = selected_population[parent_idx]\n",
    "child1, child2 = one_point_crossover(parent1, parent2)"
   ]
  },
  {
   "cell_type": "code",
   "execution_count": 13,
   "id": "3449ec1f",
   "metadata": {},
   "outputs": [
    {
     "name": "stdout",
     "output_type": "stream",
     "text": [
      "Parent 1: [0 1 1 1 1 0 0 1 1 0]\n",
      "Parent 2: [0 1 0 0 0 1 0 1 1 1]\n",
      "Child 1: [0 1 1 1 0 1 0 1 1 1]\n",
      "Child 2: [0 1 0 0 1 0 0 1 1 0]\n"
     ]
    }
   ],
   "source": [
    "print(f'Parent 1: {parent1}\\nParent 2: {parent2}\\nChild 1: {child1}\\nChild 2: {child2}')"
   ]
  },
  {
   "cell_type": "markdown",
   "id": "9f587475",
   "metadata": {},
   "source": [
    "## Mutation"
   ]
  },
  {
   "cell_type": "code",
   "execution_count": 14,
   "id": "e3e54e28",
   "metadata": {},
   "outputs": [],
   "source": [
    "def bit_flip_mutation(individual, mutation_rate):\n",
    "    random_probs = np.random.random(individual.shape)\n",
    "    return np.where(random_probs < mutation_rate, 1-individual, individual)"
   ]
  },
  {
   "cell_type": "code",
   "execution_count": 15,
   "id": "b2b629b1",
   "metadata": {},
   "outputs": [
    {
     "name": "stdout",
     "output_type": "stream",
     "text": [
      "Child1: [0 1 1 1 0 1 0 1 1 1]\n",
      "Child1 Mutation: [1 0 0 0 1 0 1 0 0 0]\n"
     ]
    }
   ],
   "source": [
    "mutation_rate = 0.9\n",
    "\n",
    "# child 1 mutation\n",
    "child1_mutation = bit_flip_mutation(child1, mutation_rate)\n",
    "# print(f'Random Probs used to mutate child: {random_probs}')\n",
    "print(f'Child1: {child1}\\nChild1 Mutation: {child1_mutation}')"
   ]
  },
  {
   "cell_type": "markdown",
   "id": "748f92cc",
   "metadata": {},
   "source": [
    "## Replacement and Termination"
   ]
  },
  {
   "cell_type": "code",
   "execution_count": 16,
   "id": "465c6bc0",
   "metadata": {},
   "outputs": [],
   "source": [
    "import numpy as np\n",
    "\n",
    "# Set a seed so that the results are consistent over sessions\n",
    "np.random.seed(3)\n",
    "\n",
    "def create_binary_population(pop_size, bit_length):\n",
    "    '''\n",
    "    Arguments:\n",
    "    pop_size -- number of individuals inside population\n",
    "    bit_length -- the number of bits of each individual (e.g. [[1010], [1101]])\n",
    "    \n",
    "    Return:\n",
    "    binary_pop -- population array of shape (pop_size, bit_length)\n",
    "    '''\n",
    "    binary_pop = np.random.randint(2, size=(pop_size, bit_length))\n",
    "    return binary_pop\n",
    "\n",
    "def fitness_binary_individual(individual):\n",
    "    '''\n",
    "    Return:\n",
    "    fitness -- fitness values, based on number of 1s bits (e.g. [1001] -> 2)\n",
    "    '''\n",
    "    return np.sum(individual)\n",
    "\n",
    "def rouletter_wheel_selection(population, fitness):\n",
    "    '''\n",
    "    Return:\n",
    "    selected_population -- selected individuals based on fitness\n",
    "    '''\n",
    "    # fitness = fitness.ravel()\n",
    "    fitness_sum = np.sum(fitness)\n",
    "    if fitness_sum == 0:\n",
    "        raise ValueError(\"Total fitness is zero, cannot perform selection.\")\n",
    "    probabilities = fitness / fitness_sum\n",
    "    selected_indices = np.random.choice(len(population), size=len(population), p=probabilities)\n",
    "    selected_population = population[selected_indices]\n",
    "    return selected_population\n",
    "\n",
    "def one_point_crossover(parent1, parent2):\n",
    "    '''\n",
    "    Perform one-point crossover between two parents.\n",
    "    \n",
    "    Arguments:\n",
    "    parent1 -- first parent binary array\n",
    "    parent2 -- second parent binary array\n",
    "    \n",
    "    Return:\n",
    "    child1 -- first child binary array\n",
    "    child2 -- second child binary array\n",
    "    '''\n",
    "    point = np.random.randint(1, len(parent1)) # random integer from low(inclusive) to high(exclusive)\n",
    "    child1 = np.concatenate((parent1[:point], parent2[point:]))\n",
    "    child2 = np.concatenate((parent2[:point], parent1[point:]))\n",
    "    return child1, child2\n",
    "\n",
    "def bit_flip_mutation(individual, mutation_rate):\n",
    "    random_probs = np.random.random(individual.shape)\n",
    "    return np.where(random_probs < mutation_rate, 1-individual, individual)"
   ]
  },
  {
   "cell_type": "code",
   "execution_count": 21,
   "id": "e4bdf30b",
   "metadata": {},
   "outputs": [],
   "source": [
    "population_size = 20\n",
    "bit_length = 20\n",
    "n_generations = 70\n",
    "mutation_rate = 0.01\n",
    "\n",
    "fitnesses = []\n",
    "\n",
    "population = create_binary_population(population_size, bit_length)"
   ]
  },
  {
   "cell_type": "code",
   "execution_count": 22,
   "id": "0d977f1b",
   "metadata": {},
   "outputs": [
    {
     "name": "stdout",
     "output_type": "stream",
     "text": [
      "Best: 13\n",
      "Best: 16\n",
      "Best: 15\n",
      "Best: 15\n",
      "Best: 16\n",
      "Best: 16\n",
      "Best: 16\n",
      "Best: 17\n",
      "Best: 16\n",
      "Best: 17\n",
      "Best: 16\n",
      "Best: 17\n",
      "Best: 16\n",
      "Best: 15\n",
      "Best: 15\n",
      "Best: 15\n",
      "Best: 15\n",
      "Best: 15\n",
      "Best: 15\n",
      "Best: 16\n",
      "Best: 17\n",
      "Best: 16\n",
      "Best: 17\n",
      "Best: 17\n",
      "Best: 16\n",
      "Best: 16\n",
      "Best: 16\n",
      "Best: 16\n",
      "Best: 16\n",
      "Best: 17\n",
      "Best: 17\n",
      "Best: 17\n",
      "Best: 18\n",
      "Best: 17\n",
      "Best: 17\n",
      "Best: 17\n",
      "Best: 17\n",
      "Best: 17\n",
      "Best: 17\n",
      "Best: 18\n",
      "Best: 17\n",
      "Best: 17\n",
      "Best: 18\n",
      "Best: 18\n",
      "Best: 18\n",
      "Best: 18\n",
      "Best: 18\n",
      "Best: 18\n",
      "Best: 19\n",
      "Best: 17\n",
      "Best: 18\n",
      "Best: 18\n",
      "Best: 17\n",
      "Best: 17\n",
      "Best: 17\n",
      "Best: 17\n",
      "Best: 18\n",
      "Best: 16\n",
      "Best: 17\n",
      "Best: 16\n",
      "Best: 17\n",
      "Best: 17\n",
      "Best: 17\n",
      "Best: 16\n",
      "Best: 16\n",
      "Best: 16\n",
      "Best: 16\n",
      "Best: 15\n",
      "Best: 16\n",
      "Best: 16\n"
     ]
    }
   ],
   "source": [
    "for i in range(n_generations):\n",
    "    fitness_values = np.apply_along_axis(fitness_binary_individual, 1, population)\n",
    "    fitnesses.append(np.max(fitness_values))\n",
    "    print(f'Best: {fitnesses[-1]}')\n",
    "    \n",
    "    selected_population = rouletter_wheel_selection(population, fitness_values)\n",
    "    new_population = []\n",
    "    \n",
    "    while(len(new_population) < population_size):\n",
    "        # Selection\n",
    "        # Randomly choose 2 individuals from selected population\n",
    "        parent_idx = np.array(np.random.choice(population_size, 2, replace=False))\n",
    "        parent1, parent2 = selected_population[parent_idx]\n",
    "        \n",
    "        # Crossover\n",
    "        child1, child2 = one_point_crossover(parent1, parent2)\n",
    "        \n",
    "        # Mutation\n",
    "        child1_mutation = bit_flip_mutation(child1, mutation_rate)\n",
    "        child2_mutation = bit_flip_mutation(child2, mutation_rate)\n",
    "        \n",
    "        # Add children to new population\n",
    "        new_population.append(child1_mutation)\n",
    "        new_population.append(child2_mutation)\n",
    "        \n",
    "    population = np.array(new_population[:population_size])"
   ]
  },
  {
   "cell_type": "code",
   "execution_count": 23,
   "id": "906becb2",
   "metadata": {},
   "outputs": [
    {
     "data": {
      "image/png": "[encoded data removed]",
      "text/plain": [
       "<Figure size 640x480 with 1 Axes>"
      ]
     },
     "metadata": {},
     "output_type": "display_data"
    }
   ],
   "source": [
    "import matplotlib.pyplot as plt\n",
    "\n",
    "plt.plot(fitnesses)\n",
    "plt.xlabel('Generation')\n",
    "plt.ylabel('Fitness');"
   ]
  }
 ],
 "metadata": {
  "kernelspec": {
   "display_name": "Python 3.13 (code-venv)",
   "language": "python",
   "name": "code-venv"
  },
  "language_info": {
   "codemirror_mode": {
    "name": "ipython",
    "version": 3
   },
   "file_extension": ".py",
   "mimetype": "text/x-python",
   "name": "python",
   "nbconvert_exporter": "python",
   "pygments_lexer": "ipython3",
   "version": "3.13.3"
  }
 },
 "nbformat": 4,
 "nbformat_minor": 5
}
